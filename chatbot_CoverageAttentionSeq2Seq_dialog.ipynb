{
  "nbformat": 4,
  "nbformat_minor": 0,
  "metadata": {
    "colab": {
      "name": "chatbot_CoverageAttentionSeq2Seq\\dialog",
      "provenance": [],
      "collapsed_sections": []
    },
    "kernelspec": {
      "name": "python3",
      "display_name": "Python 3"
    },
    "accelerator": "GPU"
  },
  "cells": [
    {
      "cell_type": "code",
      "metadata": {
        "id": "tyw3ygyWt1FL"
      },
      "source": [
        "#データの読み込み\n",
        "import torch\n",
        "import pandas as pd\n",
        "header = [\"question\", \"answer\"]\n",
        "dataset = pd.read_csv(\"/content/drive/My Drive/Chatbot/dataset/dialogs.txt\", sep='\\t',header=None, names=header)\n",
        "device = torch.device(\"cuda\")\n",
        "# https://www.kaggle.com/grafstor/simple-dialogs-for-chatbot"
      ],
      "execution_count": null,
      "outputs": []
    },
    {
      "cell_type": "code",
      "metadata": {
        "id": "Vn8TaetFwKhQ",
        "outputId": "70ae0ce9-6891-47ab-cf3b-fc7082a045ca",
        "colab": {
          "base_uri": "https://localhost:8080/",
          "height": 419
        }
      },
      "source": [
        "dataset"
      ],
      "execution_count": null,
      "outputs": [
        {
          "output_type": "execute_result",
          "data": {
            "text/html": [
              "<div>\n",
              "<style scoped>\n",
              "    .dataframe tbody tr th:only-of-type {\n",
              "        vertical-align: middle;\n",
              "    }\n",
              "\n",
              "    .dataframe tbody tr th {\n",
              "        vertical-align: top;\n",
              "    }\n",
              "\n",
              "    .dataframe thead th {\n",
              "        text-align: right;\n",
              "    }\n",
              "</style>\n",
              "<table border=\"1\" class=\"dataframe\">\n",
              "  <thead>\n",
              "    <tr style=\"text-align: right;\">\n",
              "      <th></th>\n",
              "      <th>question</th>\n",
              "      <th>answer</th>\n",
              "    </tr>\n",
              "  </thead>\n",
              "  <tbody>\n",
              "    <tr>\n",
              "      <th>0</th>\n",
              "      <td>hi, how are you doing?</td>\n",
              "      <td>i'm fine. how about yourself?</td>\n",
              "    </tr>\n",
              "    <tr>\n",
              "      <th>1</th>\n",
              "      <td>i'm fine. how about yourself?</td>\n",
              "      <td>i'm pretty good. thanks for asking.</td>\n",
              "    </tr>\n",
              "    <tr>\n",
              "      <th>2</th>\n",
              "      <td>i'm pretty good. thanks for asking.</td>\n",
              "      <td>no problem. so how have you been?</td>\n",
              "    </tr>\n",
              "    <tr>\n",
              "      <th>3</th>\n",
              "      <td>no problem. so how have you been?</td>\n",
              "      <td>i've been great. what about you?</td>\n",
              "    </tr>\n",
              "    <tr>\n",
              "      <th>4</th>\n",
              "      <td>i've been great. what about you?</td>\n",
              "      <td>i've been good. i'm in school right now.</td>\n",
              "    </tr>\n",
              "    <tr>\n",
              "      <th>...</th>\n",
              "      <td>...</td>\n",
              "      <td>...</td>\n",
              "    </tr>\n",
              "    <tr>\n",
              "      <th>3720</th>\n",
              "      <td>that's a good question. maybe it's not old age.</td>\n",
              "      <td>are you right-handed?</td>\n",
              "    </tr>\n",
              "    <tr>\n",
              "      <th>3721</th>\n",
              "      <td>are you right-handed?</td>\n",
              "      <td>yes. all my life.</td>\n",
              "    </tr>\n",
              "    <tr>\n",
              "      <th>3722</th>\n",
              "      <td>yes. all my life.</td>\n",
              "      <td>you're wearing out your right hand. stop using...</td>\n",
              "    </tr>\n",
              "    <tr>\n",
              "      <th>3723</th>\n",
              "      <td>you're wearing out your right hand. stop using...</td>\n",
              "      <td>but i do all my writing with my right hand.</td>\n",
              "    </tr>\n",
              "    <tr>\n",
              "      <th>3724</th>\n",
              "      <td>but i do all my writing with my right hand.</td>\n",
              "      <td>start typing instead. that way your left hand ...</td>\n",
              "    </tr>\n",
              "  </tbody>\n",
              "</table>\n",
              "<p>3725 rows × 2 columns</p>\n",
              "</div>"
            ],
            "text/plain": [
              "                                               question                                             answer\n",
              "0                                hi, how are you doing?                      i'm fine. how about yourself?\n",
              "1                         i'm fine. how about yourself?                i'm pretty good. thanks for asking.\n",
              "2                   i'm pretty good. thanks for asking.                  no problem. so how have you been?\n",
              "3                     no problem. so how have you been?                   i've been great. what about you?\n",
              "4                      i've been great. what about you?           i've been good. i'm in school right now.\n",
              "...                                                 ...                                                ...\n",
              "3720    that's a good question. maybe it's not old age.                              are you right-handed?\n",
              "3721                              are you right-handed?                                  yes. all my life.\n",
              "3722                                  yes. all my life.  you're wearing out your right hand. stop using...\n",
              "3723  you're wearing out your right hand. stop using...        but i do all my writing with my right hand.\n",
              "3724        but i do all my writing with my right hand.  start typing instead. that way your left hand ...\n",
              "\n",
              "[3725 rows x 2 columns]"
            ]
          },
          "metadata": {
            "tags": []
          },
          "execution_count": 4
        }
      ]
    },
    {
      "cell_type": "code",
      "metadata": {
        "id": "JhZMVCrUvE9m"
      },
      "source": [
        "import torch\n",
        "from torch.utils.data import DataLoader\n",
        "\n",
        "\n",
        "class EncoderDecoder(object):\n",
        "    def __init__(self, sentences, bos=False, eos=False):\n",
        "        # word_to_idの辞書\n",
        "        self.w2i = {}\n",
        "        # id_to_wordの辞書\n",
        "        self.i2w = {}\n",
        "        # 文頭の記号を入れるか\n",
        "        self.bos = bos\n",
        "        # 文末の記号を入れるか\n",
        "        self.eos = eos\n",
        "        # 予約語(パディング, 文章の始まり)\n",
        "        self.special_chars = ['<pad>', '<s>', '</s>', '<unk>']\n",
        "        self.bos_char = self.special_chars[1]\n",
        "        self.eos_char = self.special_chars[2]\n",
        "        self.oov_char = self.special_chars[3]\n",
        "        # 全ての単語を読み込んで辞書作成\n",
        "        self.fit(sentences)\n",
        "\n",
        "    # コールされる関数\n",
        "    def __call__(self, sentence):\n",
        "        return self.transform(sentence)\n",
        "\n",
        "    # 辞書作成\n",
        "    def fit(self, sentences):\n",
        "        self._words = set()\n",
        "\n",
        "        # 未知の単語の集合を作成する\n",
        "        for sentence in sentences:\n",
        "            self._words.update(sentence)\n",
        "\n",
        "        # 予約語分ずらしてidを振る\n",
        "        self.w2i = {w: (i + len(self.special_chars))\n",
        "                    for i, w in enumerate(self._words)}\n",
        "\n",
        "        # 予約語を辞書に追加する(<pad>:0, <s>:1, </s>:2, <unk>:3)\n",
        "        for i, w in enumerate(self.special_chars):\n",
        "            self.w2i[w] = i\n",
        "\n",
        "        # word_to_idの辞書を用いてid_to_wordの辞書を作成する\n",
        "        self.i2w = {i: w for w, i in self.w2i.items()}\n",
        "\n",
        "    # 1文をidに変換する\n",
        "    def transform(self, sentence):\n",
        "        # 指定があれば始まりと終わりの記号を追加する\n",
        "        if self.bos:\n",
        "            sentence = [self.bos_char] + sentence\n",
        "        if self.eos:\n",
        "            sentence = sentence + [self.eos_char]\n",
        "        output = self.encode(sentence)\n",
        "\n",
        "        return output\n",
        "\n",
        "    # 1文ずつidにする\n",
        "    def encode(self, sentence):\n",
        "        output = []\n",
        "        for w in sentence:\n",
        "            if w not in self.w2i:\n",
        "                idx = self.w2i[self.oov_char]\n",
        "            else:\n",
        "                idx = self.w2i[w]\n",
        "            output.append(idx)\n",
        "\n",
        "        return output"
      ],
      "execution_count": null,
      "outputs": []
    },
    {
      "cell_type": "code",
      "metadata": {
        "id": "Slqv-uODvLjg"
      },
      "source": [
        "def padding(sentence, max_length, pad):\n",
        "  length = len(sentence)\n",
        "  sent = sentence.copy()\n",
        "  sent.append(\"</s>\")\n",
        "  for i in range(max_length - length):\n",
        "    sent.append(pad)\n",
        "  return sent"
      ],
      "execution_count": null,
      "outputs": []
    },
    {
      "cell_type": "code",
      "metadata": {
        "id": "HCYuX93hwrwn"
      },
      "source": [
        "def calc_max(matrix):\n",
        "  leng = []\n",
        "  for i in range(len(matrix)):\n",
        "    leng.append(len(matrix[i]))\n",
        "  max_length = np.max(leng)\n",
        "  return max_length"
      ],
      "execution_count": null,
      "outputs": []
    },
    {
      "cell_type": "code",
      "metadata": {
        "id": "JV72j7tpwv9q"
      },
      "source": [
        "a = dataset.answer[0]"
      ],
      "execution_count": null,
      "outputs": []
    },
    {
      "cell_type": "code",
      "metadata": {
        "id": "o8I8V5YC4RZX"
      },
      "source": [
        "import re\n",
        "def arrange_data(text):\n",
        "  text = str(text)\n",
        "  punctuation = '\"#$%&\\()*+-/:;<=>[\\\\]^_`{|}~'\n",
        "  text = text.lower()\n",
        "  all_text = ''.join([c for c in text if c not in punctuation])\n",
        "  all_text = all_text.replace(\".\", \" . \")\n",
        "  all_text = all_text.replace(\"!\", \" ! \")\n",
        "  all_text = all_text.replace(\"?\", \" ? \")\n",
        "  s_text = all_text.split()\n",
        "  return s_text"
      ],
      "execution_count": null,
      "outputs": []
    },
    {
      "cell_type": "code",
      "metadata": {
        "id": "0TUs5p-S1dGM"
      },
      "source": [
        "pre_questions1 = dataset.question \n",
        "pre_answers1 = dataset.answer\n",
        "\n",
        "pre_questions2 = []\n",
        "pre_answers2 = []\n",
        "all_vocabs = []\n",
        "\n",
        "data_num = len(dataset)\n",
        "for i in range(data_num):\n",
        "  pre_questions2.append(arrange_data(pre_questions1[i]))\n",
        "  pre_answers2.append(arrange_data(pre_answers1[i]))\n",
        "  all_vocabs.append(arrange_data(pre_answers1[i]))\n",
        "  all_vocabs.append(arrange_data(pre_questions1[i]))\n"
      ],
      "execution_count": null,
      "outputs": []
    },
    {
      "cell_type": "code",
      "metadata": {
        "id": "Gslumn3AkAEO",
        "outputId": "ea67c823-a7cf-42dd-8312-896fd165695f",
        "colab": {
          "base_uri": "https://localhost:8080/",
          "height": 102
        }
      },
      "source": [
        "pre_questions2[0:5]"
      ],
      "execution_count": null,
      "outputs": [
        {
          "output_type": "execute_result",
          "data": {
            "text/plain": [
              "[['hi,', 'how', 'are', 'you', 'doing', '?'],\n",
              " [\"i'm\", 'fine', '.', 'how', 'about', 'yourself', '?'],\n",
              " [\"i'm\", 'pretty', 'good', '.', 'thanks', 'for', 'asking', '.'],\n",
              " ['no', 'problem', '.', 'so', 'how', 'have', 'you', 'been', '?'],\n",
              " [\"i've\", 'been', 'great', '.', 'what', 'about', 'you', '?']]"
            ]
          },
          "metadata": {
            "tags": []
          },
          "execution_count": 11
        }
      ]
    },
    {
      "cell_type": "code",
      "metadata": {
        "id": "4kK-ZpZO1mxR"
      },
      "source": [
        "transform_vocab = EncoderDecoder(all_vocabs, bos=True, eos=False)\n",
        "vocab_size = len(transform_vocab.w2i)"
      ],
      "execution_count": null,
      "outputs": []
    },
    {
      "cell_type": "code",
      "metadata": {
        "id": "Jgh-7pYy9ZJx",
        "outputId": "73d4c1b9-42e0-44fb-bea0-0403f7db7dae",
        "colab": {
          "base_uri": "https://localhost:8080/",
          "height": 51
        }
      },
      "source": [
        "print(transform_vocab.i2w[5])\n",
        "print(transform_vocab.w2i[\".\"])"
      ],
      "execution_count": null,
      "outputs": [
        {
          "output_type": "stream",
          "text": [
            "old,\n",
            "1656\n"
          ],
          "name": "stdout"
        }
      ]
    },
    {
      "cell_type": "code",
      "metadata": {
        "id": "3cQyYIFh6zd_",
        "outputId": "5e283354-a06b-4026-c13b-9df2c905e216",
        "colab": {
          "base_uri": "https://localhost:8080/",
          "height": 425
        }
      },
      "source": [
        "all_vocabs[2000:2005]"
      ],
      "execution_count": null,
      "outputs": [
        {
          "output_type": "execute_result",
          "data": {
            "text/plain": [
              "[['oh,',\n",
              "  'no',\n",
              "  'you',\n",
              "  \"don't\",\n",
              "  '.',\n",
              "  'puppies',\n",
              "  \"don't\",\n",
              "  'eat',\n",
              "  'vegetables',\n",
              "  '.'],\n",
              " ['no',\n",
              "  'problem',\n",
              "  '.',\n",
              "  \"i'll\",\n",
              "  'give',\n",
              "  'him',\n",
              "  'food',\n",
              "  'off',\n",
              "  'my',\n",
              "  'plate',\n",
              "  '.'],\n",
              " ['how', 'many', 'are', 'there', '?'],\n",
              " ['look', 'at', 'all', 'these', 'kittens', '!'],\n",
              " ['eight', '.']]"
            ]
          },
          "metadata": {
            "tags": []
          },
          "execution_count": 14
        }
      ]
    },
    {
      "cell_type": "code",
      "metadata": {
        "id": "6tislNOX8qV5",
        "outputId": "f1fbfadc-49d2-4870-a886-4a672c0bca41",
        "colab": {
          "base_uri": "https://localhost:8080/",
          "height": 102
        }
      },
      "source": [
        "pre_questions2[0:5]\n"
      ],
      "execution_count": null,
      "outputs": [
        {
          "output_type": "execute_result",
          "data": {
            "text/plain": [
              "[['hi,', 'how', 'are', 'you', 'doing', '?'],\n",
              " [\"i'm\", 'fine', '.', 'how', 'about', 'yourself', '?'],\n",
              " [\"i'm\", 'pretty', 'good', '.', 'thanks', 'for', 'asking', '.'],\n",
              " ['no', 'problem', '.', 'so', 'how', 'have', 'you', 'been', '?'],\n",
              " [\"i've\", 'been', 'great', '.', 'what', 'about', 'you', '?']]"
            ]
          },
          "metadata": {
            "tags": []
          },
          "execution_count": 15
        }
      ]
    },
    {
      "cell_type": "code",
      "metadata": {
        "id": "vXc2A2k58zPm",
        "outputId": "4a65ec05-a09e-49d1-9faf-663e265084ec",
        "colab": {
          "base_uri": "https://localhost:8080/",
          "height": 51
        }
      },
      "source": [
        "import numpy as np\n",
        "question_max = calc_max(pre_questions2)\n",
        "answer_max = calc_max(pre_answers2)\n",
        "print(\"question_max: \", question_max)\n",
        "print(\"answer_max: \", answer_max)\n",
        "\n",
        "def data_input_tokens(data_num, sentences, max_length, pad, transform):\n",
        "  long_tensor = sentences[data_num]\n",
        "  pad_tensor = padding(long_tensor, max_length, pad)\n",
        "  if transform != None:\n",
        "    pad_tensor = transform(pad_tensor)\n",
        "  input_tensor = torch.LongTensor(pad_tensor).to(device)\n",
        "  return input_tensor\n",
        "\n",
        "def set_input_data(data_num):\n",
        "  question = data_input_tokens(data_num, pre_questions2, question_max, '<pad>', transform_vocab)\n",
        "  answer = data_input_tokens(data_num, pre_answers2, answer_max, '<pad>', transform_vocab)\n",
        "\n",
        "  return question, answer\n",
        "input_size = question_max+2"
      ],
      "execution_count": null,
      "outputs": [
        {
          "output_type": "stream",
          "text": [
            "question_max:  21\n",
            "answer_max:  21\n"
          ],
          "name": "stdout"
        }
      ]
    },
    {
      "cell_type": "code",
      "metadata": {
        "id": "-34qXc9m-NfY"
      },
      "source": [
        "a, b = set_input_data(0)"
      ],
      "execution_count": null,
      "outputs": []
    },
    {
      "cell_type": "code",
      "metadata": {
        "id": "zzUv_Bi--PDo"
      },
      "source": [
        "pad_index = 0\n",
        "sos_index = 1\n",
        "eos_index = 2\n",
        "period = transform_vocab.w2i[\".\"]\n",
        "device2 = torch.device(\"cpu\")\n",
        "def decode_ids(ids):\n",
        "  ids = ids.to(device2).detach().clone().numpy()\n",
        "  new_ids = []\n",
        "  answer = []\n",
        "  for i in range(len(ids)):\n",
        "    id = ids[i]\n",
        "    if (id != sos_index) and (id != eos_index) and (id != pad_index):\n",
        "      new_ids.append(id)\n",
        "    \n",
        "  for i in range(len(new_ids)):\n",
        "    answer.append(transform_vocab.i2w[new_ids[i]])\n",
        " \n",
        "  new_answer = ' '.join([str(n) for n in answer])\n",
        "  return new_answer\n",
        "\n",
        "def decode_ids_NotCuda(ids):\n",
        "  new_ids = []\n",
        "  answer = []\n",
        "  for i in range(len(ids)):\n",
        "    id = ids[i]\n",
        "    if (id != sos_index) and (id != eos_index) and (id != pad_index):\n",
        "      new_ids.append(id)\n",
        "    \n",
        "  for i in range(len(new_ids)):\n",
        "    answer.append(transform_vocab.i2w[new_ids[i]])\n",
        " \n",
        "  new_answer = ' '.join([str(n) for n in answer])\n",
        "  return new_answer"
      ],
      "execution_count": null,
      "outputs": []
    },
    {
      "cell_type": "code",
      "metadata": {
        "id": "9OHqwNJFC5Of",
        "outputId": "80eb1d0f-11d9-48eb-abfb-088b07124115",
        "colab": {
          "base_uri": "https://localhost:8080/",
          "height": 35
        }
      },
      "source": [
        "decode_ids(b)"
      ],
      "execution_count": null,
      "outputs": [
        {
          "output_type": "execute_result",
          "data": {
            "application/vnd.google.colaboratory.intrinsic+json": {
              "type": "string"
            },
            "text/plain": [
              "\"i'm fine . how about yourself ?\""
            ]
          },
          "metadata": {
            "tags": []
          },
          "execution_count": 19
        }
      ]
    },
    {
      "cell_type": "code",
      "metadata": {
        "id": "ww_cpC1JDAi3"
      },
      "source": [
        "#Encoder\n",
        "import torch\n",
        "import torch.nn as nn\n",
        "import torch.nn.functional as F\n",
        "hidden_size = 256\n",
        "embedding_size = 50\n",
        "drop_out = 0\n",
        "n_layer_en = 1\n",
        "\n",
        "class Encoder(nn.Module):\n",
        "  def __init__(self):\n",
        "    super(Encoder, self).__init__()\n",
        "\n",
        "    self.embedding_layer = nn.Embedding(vocab_size, embedding_size, padding_idx=pad_index)\n",
        "\n",
        "    self.bigru = nn.GRU(embedding_size, hidden_size, n_layer_en, bidirectional=True, batch_first=True, dropout=drop_out)\n",
        "    \n",
        "    self.linear_e = nn.Linear(2*hidden_size, 2*hidden_size, bias=False)\n",
        "    \n",
        "  def forward(self, question):\n",
        "    question_embedded = self.embedding_layer(question.unsqueeze(0))\n",
        "\n",
        "    encoder_out, hidden = self.bigru(question_embedded)\n",
        "    question_fwd = hidden[0:hidden.size(0):2]\n",
        "    question_bwd = hidden[1:hidden.size(0):2]\n",
        "    question_encoded = torch.cat([question_fwd, question_bwd], dim=2)\n",
        "\n",
        "    question_encoded = self.linear_e(question_encoded)\n",
        "    question_hidden = torch.stack([question_encoded[0, 0, :hidden_size], question_encoded[0, 0, hidden_size:]]).unsqueeze(1)\n",
        "\n",
        "    return encoder_out, question_hidden, question_encoded\n",
        "\n",
        "encoder = Encoder()\n",
        "encoder = encoder.to(device)"
      ],
      "execution_count": null,
      "outputs": []
    },
    {
      "cell_type": "code",
      "metadata": {
        "id": "XZH1gs7kJs0K",
        "outputId": "49c76281-9513-4229-c4da-c289b95b6391",
        "colab": {
          "base_uri": "https://localhost:8080/",
          "height": 34
        }
      },
      "source": [
        "question, answer = set_input_data(0)\n",
        "encoder_out, question_hidden, question_encoded = encoder(question)\n",
        "print(encoder_out.size(), question_hidden.size(), question_encoded.size())"
      ],
      "execution_count": null,
      "outputs": [
        {
          "output_type": "stream",
          "text": [
            "torch.Size([1, 23, 512]) torch.Size([2, 1, 256]) torch.Size([1, 1, 512])\n"
          ],
          "name": "stdout"
        }
      ]
    },
    {
      "cell_type": "code",
      "metadata": {
        "id": "ySS2dsvHb0sY",
        "outputId": "97ea9760-348b-4259-cc4d-359429668ebf",
        "colab": {
          "base_uri": "https://localhost:8080/",
          "height": 51
        }
      },
      "source": [
        "v = torch.rand(1, 1, 10)\n",
        "mask = torch.tensor([1, 1, 1, 0, 0, 0, 0, 0, 0, 0]).unsqueeze(0).unsqueeze(0)\n",
        "v.data.masked_fill_(\n",
        "                mask == 0, -float('Inf')\n",
        "            )\n",
        "v = F.softmax(v, dim=-1)\n",
        "v"
      ],
      "execution_count": null,
      "outputs": [
        {
          "output_type": "execute_result",
          "data": {
            "text/plain": [
              "tensor([[[0.3618, 0.2846, 0.3536, 0.0000, 0.0000, 0.0000, 0.0000, 0.0000,\n",
              "          0.0000, 0.0000]]])"
            ]
          },
          "metadata": {
            "tags": []
          },
          "execution_count": 53
        }
      ]
    },
    {
      "cell_type": "code",
      "metadata": {
        "id": "aaqJif_jcGp4",
        "outputId": "6c0ab0f7-0b6a-43e8-d3d5-b81f3473aa7a",
        "colab": {
          "base_uri": "https://localhost:8080/",
          "height": 68
        }
      },
      "source": [
        "question"
      ],
      "execution_count": null,
      "outputs": [
        {
          "output_type": "execute_result",
          "data": {
            "text/plain": [
              "tensor([   1, 1791, 2763,  891, 1687,  288, 1380,    2,    0,    0,    0,    0,\n",
              "           0,    0,    0,    0,    0,    0,    0,    0,    0,    0,    0],\n",
              "       device='cuda:0')"
            ]
          },
          "metadata": {
            "tags": []
          },
          "execution_count": 54
        }
      ]
    },
    {
      "cell_type": "code",
      "metadata": {
        "id": "_plt_0VMcgVR",
        "outputId": "c1575c51-0664-4d4a-963d-cfb8e6c4f6bd",
        "colab": {
          "base_uri": "https://localhost:8080/",
          "height": 85
        }
      },
      "source": [
        "question.unsqueeze(0).unsqueeze(0).size()\n",
        "v = torch.rand(1, 1, input_size).to(device)\n",
        "v.data.masked_fill_(\n",
        "                question == 0, -float('Inf')\n",
        "            )\n",
        "v = F.softmax(v, dim=-1)\n",
        "v"
      ],
      "execution_count": null,
      "outputs": [
        {
          "output_type": "execute_result",
          "data": {
            "text/plain": [
              "tensor([[[0.0763, 0.0824, 0.1266, 0.1705, 0.0770, 0.1551, 0.1857, 0.1264,\n",
              "          0.0000, 0.0000, 0.0000, 0.0000, 0.0000, 0.0000, 0.0000, 0.0000,\n",
              "          0.0000, 0.0000, 0.0000, 0.0000, 0.0000, 0.0000, 0.0000]]],\n",
              "       device='cuda:0')"
            ]
          },
          "metadata": {
            "tags": []
          },
          "execution_count": 55
        }
      ]
    },
    {
      "cell_type": "code",
      "metadata": {
        "id": "m6qNbQDLdifD",
        "outputId": "62fb0467-5f41-48e3-a93a-e0464d86141b",
        "colab": {
          "base_uri": "https://localhost:8080/",
          "height": 51
        }
      },
      "source": [
        "s = encoder_out\n",
        "a = torch.rand(1, 1, input_size).to(device)\n",
        "print(s.size(), a.size())\n",
        "c = torch.bmm(a, s)\n",
        "print(c.size())"
      ],
      "execution_count": null,
      "outputs": [
        {
          "output_type": "stream",
          "text": [
            "torch.Size([1, 23, 512]) torch.Size([1, 1, 23])\n",
            "torch.Size([1, 1, 512])\n"
          ],
          "name": "stdout"
        }
      ]
    },
    {
      "cell_type": "code",
      "metadata": {
        "id": "OVKGspvOZsEV"
      },
      "source": [
        "n_layer_de = 2\n",
        "class Attention(nn.Module):\n",
        "  def __init__(self):\n",
        "    super(Attention, self).__init__()\n",
        "\n",
        "    self.linearV = nn.Linear(hidden_size, 1, bias=False)\n",
        "    self.linearS = nn.Linear(2*hidden_size, hidden_size)\n",
        "    self.linearH = nn.Linear(n_layer_de*hidden_size, hidden_size)\n",
        "    self.cover_layer = nn.Linear(input_size, hidden_size, bias=False)\n",
        "    \n",
        "  def forward(self, s, h, mask, cover):\n",
        "    S = self.linearS(s)\n",
        "    H = self.linearH(h)\n",
        "    C = self.cover_layer(cover)\n",
        "    v = torch.tanh(self.linearV(S + H + C)).squeeze(-1).unsqueeze(0)\n",
        "    \n",
        "    if mask is not None:\n",
        "      mask = mask.unsqueeze(0).unsqueeze(0)\n",
        "      v.data.masked_fill_(\n",
        "                mask == 0, -6.0\n",
        "            )\n",
        "    a = F.softmax(v, dim=-1)\n",
        "    context = torch.bmm(a, s)\n",
        "    next_cover = cover + a\n",
        "\n",
        "    return a, next_cover, context\n",
        "\n",
        "attention = Attention()\n",
        "attention = attention.to(device)"
      ],
      "execution_count": null,
      "outputs": []
    },
    {
      "cell_type": "code",
      "metadata": {
        "id": "rQBQ8L38fXdf",
        "outputId": "2aae2b21-4fa3-42e4-ea4b-286be04bf986",
        "colab": {
          "base_uri": "https://localhost:8080/",
          "height": 102
        }
      },
      "source": [
        "cover = torch.zeros(1, 1, input_size).to(device)\n",
        "s = encoder_out\n",
        "h = torch.rand(1, 1, 2*hidden_size).to(device)\n",
        "mask = question\n",
        "a, next_cover, context = attention(s, h, mask, cover)\n",
        "print(a.size(), next_cover.size(), context.size())\n",
        "print(a)"
      ],
      "execution_count": null,
      "outputs": [
        {
          "output_type": "stream",
          "text": [
            "torch.Size([1, 1, 23]) torch.Size([1, 1, 23]) torch.Size([1, 1, 512])\n",
            "tensor([[[0.1303, 0.1227, 0.1240, 0.1287, 0.1261, 0.1217, 0.1211, 0.1188,\n",
            "          0.0004, 0.0004, 0.0004, 0.0004, 0.0004, 0.0004, 0.0004, 0.0004,\n",
            "          0.0004, 0.0004, 0.0004, 0.0004, 0.0004, 0.0004, 0.0004]]],\n",
            "       device='cuda:0', grad_fn=<SoftmaxBackward>)\n"
          ],
          "name": "stdout"
        }
      ]
    },
    {
      "cell_type": "code",
      "metadata": {
        "id": "0E6wLXchKImN"
      },
      "source": [
        "n_layer_de = 2\n",
        "eps = 1e-40\n",
        "class Decoder(nn.Module):\n",
        "  def __init__(self):\n",
        "    super(Decoder, self).__init__()\n",
        "\n",
        "    self.embedding_layer = nn.Embedding(vocab_size, embedding_size, padding_idx=pad_index)\n",
        "\n",
        "    self.gru = nn.GRU(embedding_size, hidden_size, n_layer_de, bidirectional=False, batch_first=True, dropout=drop_out)\n",
        "    self.attention = Attention()\n",
        "    self.linear_d = nn.Linear(3*hidden_size, hidden_size)\n",
        "    self.vocab_linear = nn.Linear(hidden_size, vocab_size)\n",
        "    \n",
        "  def forward(self, encoder_out, question_encoded, decoder_out, decoder_hidden, question, cover, step):\n",
        "\n",
        "    input_emb = self.embedding_layer(decoder_out)\n",
        "\n",
        "    gru_out, gru_hidden = self.gru(input_emb, decoder_hidden)\n",
        "\n",
        "    h = torch.cat([gru_hidden[0], gru_hidden[1]], dim=-1).unsqueeze(0)\n",
        "\n",
        "    a, next_cover, context = attention(encoder_out, h, question, cover)\n",
        "    context_out = torch.cat([gru_out, context], dim=-1)\n",
        "\n",
        "    decoder_out = F.relu(self.linear_d(context_out))\n",
        "    decoder_out = F.log_softmax(self.vocab_linear(decoder_out)+eps, dim=-1)    \n",
        "    return gru_hidden, decoder_out, a, next_cover\n",
        "\n",
        "decoder = Decoder()\n",
        "decoder = decoder.to(device)"
      ],
      "execution_count": null,
      "outputs": []
    },
    {
      "cell_type": "code",
      "metadata": {
        "id": "IXUJ5NIAOrRL",
        "outputId": "68b21250-dcfe-46e6-f57d-5491f20900ed",
        "colab": {
          "base_uri": "https://localhost:8080/",
          "height": 51
        }
      },
      "source": [
        "decoder_out = torch.LongTensor([sos_index]).to(device).unsqueeze(0)\n",
        "print(decoder_out.size())\n",
        "decoder_hidden = question_hidden\n",
        "decoder_hidden, decoder_out, a, next_cover = decoder(encoder_out, question_encoded, decoder_out, decoder_hidden, question, cover, 0)\n",
        "print(decoder_hidden.size(), decoder_out.size())\n",
        "decoder_out = decoder_out.argmax(-1)\n",
        "decoder_hidden, decoder_out, a, next_cover = decoder(encoder_out, question_encoded, decoder_out, decoder_hidden, question, cover, 0)"
      ],
      "execution_count": null,
      "outputs": [
        {
          "output_type": "stream",
          "text": [
            "torch.Size([1, 1])\n",
            "torch.Size([2, 1, 256]) torch.Size([1, 1, 2804])\n"
          ],
          "name": "stdout"
        }
      ]
    },
    {
      "cell_type": "code",
      "metadata": {
        "id": "NHhNtRONP9Fy"
      },
      "source": [
        "criterion = nn.NLLLoss(reduction=\"sum\", ignore_index=pad_index)\n",
        "import torch.optim as optim\n",
        "lr = 0.00001\n",
        "encoder_optimizer = optim.Adam(encoder.parameters(), lr=lr, weight_decay=1e-6)\n",
        "decoder_optimizer = optim.Adam(decoder.parameters(), lr=lr, weight_decay=1e-6)"
      ],
      "execution_count": null,
      "outputs": []
    },
    {
      "cell_type": "code",
      "metadata": {
        "id": "GvTUe8kcQpna"
      },
      "source": [
        "def train(data_num, teacher_forcing_p, alpha):\n",
        "  encoder.train()\n",
        "  decoder.train()\n",
        "  encoder_optimizer.zero_grad()\n",
        "  decoder_optimizer.zero_grad()\n",
        "\n",
        "  question, answer = set_input_data(data_num)\n",
        "\n",
        "  rand = np.random.rand()\n",
        "  if teacher_forcing_p > rand:\n",
        "      teacher_forcing = True\n",
        "  else:\n",
        "      teacher_forcing = False\n",
        "\n",
        "  length = answer_max + 2\n",
        "\n",
        "  #encoder\n",
        "  encoder_out, question_hidden, question_encoded = encoder(question)\n",
        "\n",
        "  decoder_out = torch.LongTensor([sos_index]).to(device).unsqueeze(0)\n",
        "  decoder_hidden = question_hidden\n",
        "  next_cover = torch.zeros(1, 1, input_size).to(device).requires_grad_()\n",
        "  cover_index = []\n",
        "  a_index = []\n",
        "  log_logit_index = []\n",
        "  for step in range(length):\n",
        "    #decoder\n",
        "    cover = next_cover\n",
        "    decoder_hidden, decoder_out, a, next_cover = decoder(encoder_out, question_encoded, decoder_out, decoder_hidden, question, next_cover, step)\n",
        "    log_logit_index.append(decoder_out.squeeze(0))\n",
        "    if teacher_forcing:\n",
        "      decoder_out = answer[step].unsqueeze(0).unsqueeze(0)\n",
        "    else:\n",
        "      decoder_out = decoder_out.argmax(-1)\n",
        "    \n",
        "    cover_index.append(cover)\n",
        "    a_index.append(a)\n",
        "\n",
        "  cover_index = torch.cat(cover_index, dim=0)\n",
        "  a_index = torch.cat(a_index, dim=0)\n",
        "  cov_loss = torch.sum(torch.min(cover_index, a_index))\n",
        "  log_logit_index = torch.cat(log_logit_index, dim=0)\n",
        "  loss = criterion(log_logit_index, answer) + alpha*cov_loss\n",
        "\n",
        "  loss.backward()\n",
        "  encoder_optimizer.step()\n",
        "  decoder_optimizer.step()\n",
        "\n",
        "  return loss.item()\n",
        "\n",
        "def test(data_num, teacher_forcing_p, alpha):\n",
        "  encoder.eval()\n",
        "  decoder.eval()\n",
        "\n",
        "  question, answer = set_input_data(data_num)\n",
        "\n",
        "  rand = np.random.rand()\n",
        "  if teacher_forcing_p > rand:\n",
        "      teacher_forcing = True\n",
        "  else:\n",
        "      teacher_forcing = False\n",
        "\n",
        "  length = answer_max + 2\n",
        "\n",
        "  #encoder\n",
        "  encoder_out, question_hidden, question_encoded = encoder(question)\n",
        "\n",
        "  decoder_out = torch.LongTensor([sos_index]).to(device).unsqueeze(0)\n",
        "  decoder_hidden = question_hidden\n",
        "  next_cover = torch.zeros(1, 1, input_size).to(device).requires_grad_()\n",
        "  cover_index = []\n",
        "  a_index = []\n",
        "\n",
        "  log_logit_index = []\n",
        "  word_index = []\n",
        "  for step in range(length):\n",
        "    #decoder\n",
        "    cover = next_cover\n",
        "    decoder_hidden, decoder_out, a, next_cover = decoder(encoder_out, question_encoded, decoder_out, decoder_hidden, question, next_cover, step)\n",
        "    log_logit_index.append(decoder_out.squeeze(0))\n",
        "    if teacher_forcing:\n",
        "      decoder_out = answer[step].unsqueeze(0).unsqueeze(0)\n",
        "    else:\n",
        "      decoder_out = decoder_out.argmax(-1)\n",
        "    word_index.append(decoder_out)\n",
        "\n",
        "    cover_index.append(cover)\n",
        "    a_index.append(a)\n",
        "\n",
        "  word_index = torch.cat(word_index, dim=-1).squeeze(0)\n",
        "\n",
        "  cover_index = torch.cat(cover_index, dim=0)\n",
        "  a_index = torch.cat(a_index, dim=0)\n",
        "  cov_loss = torch.sum(torch.min(cover_index, a_index))\n",
        "  log_logit_index = torch.cat(log_logit_index, dim=0)\n",
        "  loss = criterion(log_logit_index, answer) + alpha*cov_loss\n",
        "\n",
        "  return loss.item(), word_index"
      ],
      "execution_count": null,
      "outputs": []
    },
    {
      "cell_type": "code",
      "metadata": {
        "id": "zLlVjH3VT6Xr",
        "outputId": "6b0ac844-73e7-4bd0-e59e-e6947929a94e",
        "colab": {
          "base_uri": "https://localhost:8080/",
          "height": 1000
        }
      },
      "source": [
        "dataset_num = len(dataset)\n",
        "train_loss_history = []\n",
        "test_loss_history = []\n",
        "batch_size = 2000\n",
        "for i in range(100):\n",
        "  loss = 0\n",
        "  loss_test = 0\n",
        "  for j in range(batch_size):\n",
        "    a = np.random.choice(list(range(0, 2500)))\n",
        "    b = np.random.choice(list(range(2500, dataset_num)))\n",
        "\n",
        "    loss_i = train(a, 0.9, 0.2)\n",
        "    loss_test_i, word_index = test(b, 0, 0.2)\n",
        "    loss += loss_i / batch_size\n",
        "    loss_test += loss_test_i / batch_size\n",
        "  print(\"epoch: \",i)\n",
        "  print(\"loss: \",loss)\n",
        "  print(\"loss_test: \",loss_test)\n",
        "  print(\"question: \", pre_questions1[b])\n",
        "  print(\"gold answer: \", pre_answers1[b])\n",
        "  text = decode_ids(word_index)\n",
        "  print(\"generated text: \", text)\n",
        "  print(' ')\n",
        "  \n",
        "  train_loss_history.append(loss)\n",
        "\n",
        "  test_loss_history.append(loss_test)\n",
        "\n",
        "\n",
        "import matplotlib.pyplot as plt\n",
        "\n",
        "\n",
        "plt.plot(train_loss_history, marker=' ', label='train_loss')\n",
        "plt.plot(test_loss_history, marker=' ', label='test_loss')\n",
        "plt.grid()\n",
        "plt.xlabel('epochs')\n",
        "plt.ylabel('loss')\n",
        "plt.legend()\n",
        "plt.show()"
      ],
      "execution_count": null,
      "outputs": [
        {
          "output_type": "stream",
          "text": [
            "epoch:  0\n",
            "loss:  59.099594741821235\n",
            "loss_test:  63.366141749382024\n",
            "question:  swiss.\n",
            "gold answer:  of course, the cheese with holes in it.\n",
            "generated text:  i i . . .\n",
            " \n",
            "epoch:  1\n",
            "loss:  48.820034361839376\n",
            "loss_test:  54.745606714248744\n",
            "question:  perfect. we don't have to listen to barking dogs.\n",
            "gold answer:  and there are only six units in the whole building.\n",
            "generated text:  i i . .\n",
            " \n",
            "epoch:  2\n",
            "loss:  48.50300904655456\n",
            "loss_test:  55.57704170131671\n",
            "question:  three different people will give you three different stories.\n",
            "gold answer:  and the government will give you a fourth story.\n",
            "generated text:  i i . . . .\n",
            " \n",
            "epoch:  3\n",
            "loss:  46.52789126968381\n",
            "loss_test:  57.613775354862085\n",
            "question:  i didn't know you had a gun.\n",
            "gold answer:  everyone in america should have a gun.\n",
            "generated text:  i you you . . . . . . . .\n",
            " \n",
            "epoch:  4\n",
            "loss:  46.24658033275618\n",
            "loss_test:  57.355184742450724\n",
            "question:  and now i'm glad that i didn't.\n",
            "gold answer:  why's that?\n",
            "generated text:  i you you . . . . . . . . .\n",
            " \n",
            "epoch:  5\n",
            "loss:  46.00343863677976\n",
            "loss_test:  58.74259138584148\n",
            "question:  they should stay in the woods where they belong.\n",
            "gold answer:  there's no food in the woods.\n",
            "generated text:  i you you . . . . . . . . .\n",
            " \n",
            "epoch:  6\n",
            "loss:  46.23784090709675\n",
            "loss_test:  58.924724258899666\n",
            "question:  i guess so.\n",
            "gold answer:  god bless modern medicine.\n",
            "generated text:  i you you . . . . . . . . .\n",
            " \n",
            "epoch:  7\n",
            "loss:  46.2105466294288\n",
            "loss_test:  60.51610557460788\n",
            "question:  bears are invading our neighborhoods.\n",
            "gold answer:  of course they are. they're starving to death.\n",
            "generated text:  i you . . . . . . . . . .\n",
            " \n",
            "epoch:  8\n",
            "loss:  44.96417436361315\n",
            "loss_test:  59.79973275470735\n",
            "question:  what did you do at night?\n",
            "gold answer:  at night i went out to eat. the food was delicious.\n",
            "generated text:  i you . . . . . . . . . .\n",
            " \n",
            "epoch:  9\n",
            "loss:  44.68668298816682\n",
            "loss_test:  60.64200530147558\n",
            "question:  her face is really fat, but they say the swelling will go down.\n",
            "gold answer:  and then will she look normal again?\n",
            "generated text:  i you you . . . . . . . . .\n",
            " \n",
            "epoch:  10\n",
            "loss:  44.75827396965028\n",
            "loss_test:  60.200047123909044\n",
            "question:  did he set a new record?\n",
            "gold answer:  yes, i think he did.\n",
            "generated text:  i you . . . . . . . . .\n",
            " \n",
            "epoch:  11\n",
            "loss:  44.829108082294404\n",
            "loss_test:  61.06490970325468\n",
            "question:  no, you didn't. i checked the stove before we left.\n",
            "gold answer:  are you sure?\n",
            "generated text:  i you you to . . . . . . .\n",
            " \n",
            "epoch:  12\n",
            "loss:  44.324837460041\n",
            "loss_test:  60.26769309949871\n",
            "question:  is it something you ate?\n",
            "gold answer:  maybe. i'm not sure.\n",
            "generated text:  i you . . . . . . . .\n",
            " \n",
            "epoch:  13\n",
            "loss:  44.76243078804016\n",
            "loss_test:  61.759173925399814\n",
            "question:  especially if it's the same work, over and over.\n",
            "gold answer:  but that's what most people do.\n",
            "generated text:  i you you . . . . . . .\n",
            " \n",
            "epoch:  14\n",
            "loss:  43.62332955932606\n",
            "loss_test:  61.356251770973394\n",
            "question:  during the christmas holidays.\n",
            "gold answer:  you'd better buy your ticket now.\n",
            "generated text:  i you . . . . . . .\n",
            " \n",
            "epoch:  15\n",
            "loss:  43.83766574430455\n",
            "loss_test:  61.61021554279339\n",
            "question:  would you put suntan lotion on my back, please?\n",
            "gold answer:  sure.\n",
            "generated text:  i you you . . . . . . .\n",
            " \n",
            "epoch:  16\n",
            "loss:  44.33896977710721\n",
            "loss_test:  61.25679282665255\n",
            "question:  what's wrong with it?\n",
            "gold answer:  it aches most of the time.\n",
            "generated text:  i you . . . . . . .\n",
            " \n",
            "epoch:  17\n",
            "loss:  43.53669875812528\n",
            "loss_test:  62.044662412643405\n",
            "question:  did you get free food?\n",
            "gold answer:  i ate free cheese and meat every day.\n",
            "generated text:  i you . . . . . . .\n",
            " \n",
            "epoch:  18\n",
            "loss:  43.545363089084674\n",
            "loss_test:  59.94871802902213\n",
            "question:  did you read this article?\n",
            "gold answer:  what article?\n",
            "generated text:  i you . i . . . . .\n",
            " \n",
            "epoch:  19\n",
            "loss:  43.45512466382977\n",
            "loss_test:  60.524621324539154\n",
            "question:  whatever it is, it hurts.\n",
            "gold answer:  can't you take medicine or something for it?\n",
            "generated text:  i you . . . .\n",
            " \n",
            "epoch:  20\n",
            "loss:  42.85432352209084\n",
            "loss_test:  61.139658161163325\n",
            "question:  the election is next week.\n",
            "gold answer:  who are you voting for?\n",
            "generated text:  i you . . .\n",
            " \n",
            "epoch:  21\n",
            "loss:  43.28830754184721\n",
            "loss_test:  61.467957965850836\n",
            "question:  what do the teachers do?\n",
            "gold answer:  we take our rosters to the parking lot and take roll.\n",
            "generated text:  i . . . . .\n",
            " \n",
            "epoch:  22\n",
            "loss:  43.17204298830026\n",
            "loss_test:  60.61787372016909\n",
            "question:  look at this sheet.\n",
            "gold answer:  yes?\n",
            "generated text:  i you . to to ? . .\n",
            " \n",
            "epoch:  23\n",
            "loss:  43.019862905979146\n",
            "loss_test:  60.77677248334885\n",
            "question:  yes, but i was stuck there all day while they looked for the bomb.\n",
            "gold answer:  someday the bomb is going to be for real.\n",
            "generated text:  i you you to to ? . . . .\n",
            " \n",
            "epoch:  24\n",
            "loss:  41.88962081909177\n",
            "loss_test:  60.7977514390945\n",
            "question:  so we've got to sell before property values go down?\n",
            "gold answer:  yes. i still can't believe our city council allowed this building.\n",
            "generated text:  i . i . . . . .\n",
            " \n",
            "epoch:  25\n",
            "loss:  42.334926428317964\n",
            "loss_test:  60.80083176422124\n",
            "question:  a band-aid might not work.\n",
            "gold answer:  i must not use this finger until the cut heals.\n",
            "generated text:  i don't . .\n",
            " \n",
            "epoch:  26\n",
            "loss:  42.66161521053318\n",
            "loss_test:  61.59955249023432\n",
            "question:  what are those wipes for?\n",
            "gold answer:  you use them to wipe the handle of the shopping cart.\n",
            "generated text:  i don't . . .\n",
            " \n",
            "epoch:  27\n",
            "loss:  42.59257031011589\n",
            "loss_test:  62.090764475822446\n",
            "question:  doesn't that get old?\n",
            "gold answer:  no, because i'm eating food that i like.\n",
            "generated text:  i don't . to . . .\n",
            " \n",
            "epoch:  28\n",
            "loss:  42.83438434696207\n",
            "loss_test:  61.16298009872443\n",
            "question:  like what?\n",
            "gold answer:  i think he closed the bowling alley in the white house.\n",
            "generated text:  i don't to . .\n",
            " \n",
            "epoch:  29\n",
            "loss:  42.59220696258543\n",
            "loss_test:  60.87347789478295\n",
            "question:  that sounds like a great job.\n",
            "gold answer:  whatever a customer ordered, i sliced off a little more for me.\n",
            "generated text:  i don't to to .\n",
            " \n",
            "epoch:  30\n",
            "loss:  42.27557942914965\n",
            "loss_test:  59.73381544208522\n",
            "question:  because you get to meet a lot of people.\n",
            "gold answer:  you sure do.\n",
            "generated text:  i think i to to to ? .\n",
            " \n",
            "epoch:  31\n",
            "loss:  41.63080949687955\n",
            "loss_test:  60.94380418777462\n",
            "question:  a family with only one baby.\n",
            "gold answer:  that's a good idea.\n",
            "generated text:  i don't to . .\n",
            " \n",
            "epoch:  32\n",
            "loss:  41.08044223403929\n",
            "loss_test:  60.3504779710769\n",
            "question:  oh, yes. we all took lots of pictures.\n",
            "gold answer:  then you flew back home that evening?\n",
            "generated text:  i don't to to .\n",
            " \n",
            "epoch:  33\n",
            "loss:  41.915887400150375\n",
            "loss_test:  61.476893554687535\n",
            "question:  it's better to be pale than to have skin cancer.\n",
            "gold answer:  i know that.\n",
            "generated text:  i think i to to to . . .\n",
            " \n",
            "epoch:  34\n",
            "loss:  41.48026747846603\n",
            "loss_test:  60.63369591903697\n",
            "question:  it's not orange!\n",
            "gold answer:  your orange isn't orange?\n",
            "generated text:  i don't to to .\n",
            " \n",
            "epoch:  35\n",
            "loss:  41.74370423078538\n",
            "loss_test:  62.11329360294339\n",
            "question:  you use them to wipe the handle of the shopping cart.\n",
            "gold answer:  that's a great idea.\n",
            "generated text:  i think i i . . . .\n",
            " \n",
            "epoch:  36\n",
            "loss:  41.71078749132156\n",
            "loss_test:  61.79296348094944\n",
            "question:  don't pick your nose.\n",
            "gold answer:  i wasn't picking my nose.\n",
            "generated text:  i don't to . .\n",
            " \n",
            "epoch:  37\n",
            "loss:  41.16272955512995\n",
            "loss_test:  61.84207757377618\n",
            "question:  see those stains?\n",
            "gold answer:  i sure do.\n",
            "generated text:  i don't to . .\n",
            " \n",
            "epoch:  38\n",
            "loss:  41.226846052169805\n",
            "loss_test:  61.760222773551966\n",
            "question:  but there are a lot of police.\n",
            "gold answer:  there's only one police officer per 100 criminals.\n",
            "generated text:  i don't to to . . .\n",
            " \n",
            "epoch:  39\n",
            "loss:  40.51096035242071\n",
            "loss_test:  61.567730343818646\n",
            "question:  i like the one where the fireman tells us why we should vote yes.\n",
            "gold answer:  don't believe him! whatever the tv ads tell you, the opposite is true.\n",
            "generated text:  i was i . . . . . . .\n",
            " \n",
            "epoch:  40\n",
            "loss:  40.67234507274633\n",
            "loss_test:  61.69168533134462\n",
            "question:  did he set a new record?\n",
            "gold answer:  yes, i think he did.\n",
            "generated text:  i don't to . . . . . .\n",
            " \n",
            "epoch:  41\n",
            "loss:  40.02691398096084\n",
            "loss_test:  61.95513144397737\n",
            "question:  i don't like it reheated.\n",
            "gold answer:  well, you'll have hot fresh food tomorrow night.\n",
            "generated text:  i don't you to to .\n",
            " \n",
            "epoch:  42\n",
            "loss:  40.736824749469704\n",
            "loss_test:  62.39161923980718\n",
            "question:  why?\n",
            "gold answer:  because that gets the blood out of the shirt.\n",
            "generated text:  i don't to . . . .\n",
            " \n",
            "epoch:  43\n",
            "loss:  40.210060678482066\n",
            "loss_test:  62.37712504720678\n",
            "question:  the one that tiger won?\n",
            "gold answer:  how did he do it?\n",
            "generated text:  i don't to . . . .\n",
            " \n",
            "epoch:  44\n",
            "loss:  40.47911589002615\n",
            "loss_test:  62.460768615722735\n",
            "question:  only if my candidate wins.\n",
            "gold answer:  well, he can't win unless you and others vote for him.\n",
            "generated text:  i don't you to to .\n",
            " \n",
            "epoch:  45\n",
            "loss:  40.17802474832537\n",
            "loss_test:  60.889089832305984\n",
            "question:  why did you do that?\n",
            "gold answer:  pasta is processed food. potatoes are natural food.\n",
            "generated text:  i don't to . . . . . .\n",
            " \n",
            "epoch:  46\n",
            "loss:  39.74850920104979\n",
            "loss_test:  62.24259881591806\n",
            "question:  i enjoy selling. i was born to sell.\n",
            "gold answer:  okay, what do you want to sell?\n",
            "generated text:  i don't you to to . .\n",
            " \n",
            "epoch:  47\n",
            "loss:  39.948646203040994\n",
            "loss_test:  61.544902460098214\n",
            "question:  when he is almost finished with one cigarette, he uses it to light another.\n",
            "gold answer:  he's a chain smoker.\n",
            "generated text:  i don't to . . . . . . . .\n",
            " \n",
            "epoch:  48\n",
            "loss:  40.56154056453708\n",
            "loss_test:  61.343232324600244\n",
            "question:  have you decided how you are going to vote?\n",
            "gold answer:  do you mean on measures 1, 2, and 3?\n",
            "generated text:  i don't to to . . . .\n",
            " \n",
            "epoch:  49\n",
            "loss:  39.23195949459081\n",
            "loss_test:  62.36629791259756\n",
            "question:  so maybe he'll go to jail forever?\n",
            "gold answer:  i sure hope so.\n",
            "generated text:  i don't to . . . . .\n",
            " \n",
            "epoch:  50\n",
            "loss:  40.18101147556308\n",
            "loss_test:  63.068242939949066\n",
            "question:  but it's real easy to slip on.\n",
            "gold answer:  especially on these slick floors.\n",
            "generated text:  i don't you to .\n",
            " \n",
            "epoch:  51\n",
            "loss:  39.91080632781979\n",
            "loss_test:  61.57228596782681\n",
            "question:  i can't believe we haven't seen any animals.\n",
            "gold answer:  thank goodness! i don't want to see any wild animals.\n",
            "generated text:  i think i . . . .\n",
            " \n",
            "epoch:  52\n",
            "loss:  39.34668295860297\n",
            "loss_test:  61.20271864414222\n",
            "question:  why?\n",
            "gold answer:  because that gets the blood out of the shirt.\n",
            "generated text:  i don't to . . .\n",
            " \n",
            "epoch:  53\n",
            "loss:  39.49956731700894\n",
            "loss_test:  63.07413104057313\n",
            "question:  but it's uncomfortable.\n",
            "gold answer:  it's the law.\n",
            "generated text:  i don't you . . .\n",
            " \n",
            "epoch:  54\n",
            "loss:  39.077048914432545\n",
            "loss_test:  63.316882131576484\n",
            "question:  my shoes are shined.\n",
            "gold answer:  do your socks match?\n",
            "generated text:  i don't you to .\n",
            " \n",
            "epoch:  55\n",
            "loss:  38.85129128789909\n",
            "loss_test:  63.13149954080588\n",
            "question:  and then will she look normal again?\n",
            "gold answer:  i guess so.\n",
            "generated text:  i don't to . . . . . . .\n",
            " \n",
            "epoch:  56\n",
            "loss:  38.864407308578535\n",
            "loss_test:  62.09434261035929\n",
            "question:  i like that shirt.\n",
            "gold answer:  so do i.\n",
            "generated text:  i think you .\n",
            " \n",
            "epoch:  57\n",
            "loss:  39.122559327125536\n",
            "loss_test:  63.352956768035824\n",
            "question:  yes, i did. a site i went to said they would send me the solution.\n",
            "gold answer:  so, what's the problem?\n",
            "generated text:  i was you to the the good .\n",
            " \n",
            "epoch:  58\n",
            "loss:  38.93777251672745\n",
            "loss_test:  63.0204988241195\n",
            "question:  i ate free cheese and meat every day.\n",
            "gold answer:  that sounds like a great job.\n",
            "generated text:  i don't you to .\n",
            " \n",
            "epoch:  59\n",
            "loss:  38.74079374265666\n",
            "loss_test:  62.13025165939333\n",
            "question:  well, i guess that's why he did it.\n",
            "gold answer:  what's the point?\n",
            "generated text:  i think i . . .\n",
            " \n",
            "epoch:  60\n",
            "loss:  38.44871422815328\n",
            "loss_test:  62.43092776679995\n",
            "question:  the league suspended him for 50 games.\n",
            "gold answer:  that will cost him some money.\n",
            "generated text:  i think it . .\n",
            " \n",
            "epoch:  61\n",
            "loss:  38.40495648717887\n",
            "loss_test:  62.995517836570734\n",
            "question:  so do i.\n",
            "gold answer:  how much is it?\n",
            "generated text:  i don't you . .\n",
            " \n",
            "epoch:  62\n",
            "loss:  37.86751584386823\n",
            "loss_test:  62.20999446630482\n",
            "question:  like what?\n",
            "gold answer:  i think he closed the bowling alley in the white house.\n",
            "generated text:  i don't to a good . .\n",
            " \n",
            "epoch:  63\n",
            "loss:  38.38904749965681\n",
            "loss_test:  63.326509710788706\n",
            "question:  yes, about $7 million.\n",
            "gold answer:  that will teach him a good lesson.\n",
            "generated text:  i don't know . .\n",
            " \n",
            "epoch:  64\n",
            "loss:  38.00391826152801\n",
            "loss_test:  63.192816029548695\n",
            "question:  i haven't decided yet.\n",
            "gold answer:  more and more people are using macs.\n",
            "generated text:  i don't you .\n",
            " \n",
            "epoch:  65\n",
            "loss:  37.52615915966042\n",
            "loss_test:  63.06154074335095\n",
            "question:  of course they are. they're starving to death.\n",
            "gold answer:  they should stay in the woods where they belong.\n",
            "generated text:  i don't know . . .\n",
            " \n",
            "epoch:  66\n",
            "loss:  37.81820819377902\n",
            "loss_test:  62.57156185531617\n",
            "question:  i saw what you did.\n",
            "gold answer:  i didn't do anything.\n",
            "generated text:  i don't you to .\n",
            " \n",
            "epoch:  67\n",
            "loss:  37.580906332016006\n",
            "loss_test:  62.931071529388454\n",
            "question:  do you have a cold?\n",
            "gold answer:  yes, i do.\n",
            "generated text:  i don't to . . . .\n",
            " \n",
            "epoch:  68\n",
            "loss:  37.591504193305965\n",
            "loss_test:  63.07266065692901\n",
            "question:  is it something you ate?\n",
            "gold answer:  maybe. i'm not sure.\n",
            "generated text:  i don't know . . . .\n",
            " \n",
            "epoch:  69\n",
            "loss:  37.88162320327762\n",
            "loss_test:  61.38734712123868\n",
            "question:  only a threat?\n",
            "gold answer:  yes, but i was stuck there all day while they looked for the bomb.\n",
            "generated text:  i don't to . . . .\n",
            " \n",
            "epoch:  70\n",
            "loss:  37.90878166055677\n",
            "loss_test:  62.73188740015027\n",
            "question:  he's been in jail three times already.\n",
            "gold answer:  why did they ever let him out?\n",
            "generated text:  i think the good . . . .\n",
            " \n",
            "epoch:  71\n",
            "loss:  37.09089169025418\n",
            "loss_test:  62.53763769292834\n",
            "question:  there sure areat least a million.\n",
            "gold answer:  so how do you plan to become rich?\n",
            "generated text:  i don't know . . .\n",
            " \n",
            "epoch:  72\n",
            "loss:  37.07045317363736\n",
            "loss_test:  63.04699039554585\n",
            "question:  a couple of dictionaries and some textbooks.\n",
            "gold answer:  are you crazy?\n",
            "generated text:  i don't know . .\n",
            " \n",
            "epoch:  73\n",
            "loss:  36.907218869686155\n",
            "loss_test:  62.342631747722606\n",
            "question:  so why are we selling our house?\n",
            "gold answer:  they're building a 3-story apartment building on the corner.\n",
            "generated text:  i don't have to . . . . .\n",
            " \n",
            "epoch:  74\n",
            "loss:  36.98456784915929\n",
            "loss_test:  64.12333258581157\n",
            "question:  we have a 2 o'clock appointment to see the one on main street.\n",
            "gold answer:  we'd better get ready to go.\n",
            "generated text:  i was the nice . . . . . .\n",
            " \n",
            "epoch:  75\n",
            "loss:  37.109755748748846\n",
            "loss_test:  63.28861312294\n",
            "question:  so are we going to buy it?\n",
            "gold answer:  i'm afraid not.\n",
            "generated text:  i don't know . . . .\n",
            " \n",
            "epoch:  76\n",
            "loss:  37.595368523597635\n",
            "loss_test:  63.74202675151817\n",
            "question:  no problem. these pants have an elastic waistband.\n",
            "gold answer:  you are so smart!\n",
            "generated text:  what do you mean ? ? ? .\n",
            " \n",
            "epoch:  77\n",
            "loss:  36.20334654760355\n",
            "loss_test:  64.23092422342302\n",
            "question:  you didn't read about the company first?\n",
            "gold answer:  i didn't have to. it's been in business for 60 years.\n",
            "generated text:  i don't i . . . . . . .\n",
            " \n",
            "epoch:  78\n",
            "loss:  36.8740981431007\n",
            "loss_test:  64.15919266510015\n",
            "question:  he helped make the yankees the best team ever.\n",
            "gold answer:  and ruth was a good person, too.\n",
            "generated text:  i think the good . . . . . . . . . .\n",
            " \n",
            "epoch:  79\n",
            "loss:  36.013798529148104\n",
            "loss_test:  63.90932900619504\n",
            "question:  all it takes is will power, and you have it.\n",
            "gold answer:  then why can't i quit?\n",
            "generated text:  i think i . .\n",
            " \n",
            "epoch:  80\n",
            "loss:  35.487723676204716\n",
            "loss_test:  62.74835175514216\n",
            "question:  not to mention 40,000 wounded soldiers.\n",
            "gold answer:  but bush visited some of them in the hospital once.\n",
            "generated text:  i don't you to go to go .\n",
            " \n",
            "epoch:  81\n",
            "loss:  35.763772042274496\n",
            "loss_test:  62.71751554489138\n",
            "question:  one to wipe the handle, and the others to wipe the produce.\n",
            "gold answer:  what's the matter with the produce?\n",
            "generated text:  i don't think i . . .\n",
            " \n",
            "epoch:  82\n",
            "loss:  36.00111743259426\n",
            "loss_test:  62.915730897903444\n",
            "question:  he hates democrats and republicans.\n",
            "gold answer:  well, they do put their party before their country.\n",
            "generated text:  i don't know . . . .\n",
            " \n",
            "epoch:  83\n",
            "loss:  35.48924247026444\n",
            "loss_test:  64.1160827059746\n",
            "question:  but someone's going to break it, so what good is it?\n",
            "gold answer:  well, he can enjoy it while it lasts.\n",
            "generated text:  i don't know . . . . . . . .\n",
            " \n",
            "epoch:  84\n",
            "loss:  35.422562962055274\n",
            "loss_test:  62.12202725601194\n",
            "question:  the streets are clean and quiet.\n",
            "gold answer:  the neighbors don't party on the weekends.\n",
            "generated text:  i don't . . . .\n",
            " \n",
            "epoch:  85\n",
            "loss:  35.38533939170837\n",
            "loss_test:  63.429008478641435\n",
            "question:  did you watch that golf tournament?\n",
            "gold answer:  the one that tiger won?\n",
            "generated text:  i don't i . . . .\n",
            " \n",
            "epoch:  86\n",
            "loss:  35.14360916328436\n",
            "loss_test:  63.57839868307117\n",
            "question:  have you seen a doctor?\n",
            "gold answer:  i've been to two doctors.\n",
            "generated text:  i don't want to go . .\n",
            " \n",
            "epoch:  87\n",
            "loss:  35.35398903179163\n",
            "loss_test:  65.51120588111874\n",
            "question:  i cut my finger.\n",
            "gold answer:  how did you do that?\n",
            "generated text:  i don't you .\n",
            " \n",
            "epoch:  88\n",
            "loss:  35.78641763114929\n",
            "loss_test:  64.37921169424074\n",
            "question:  have you decided how you are going to vote?\n",
            "gold answer:  do you mean on measures 1, 2, and 3?\n",
            "generated text:  i don't know . . .\n",
            " \n",
            "epoch:  89\n",
            "loss:  34.857890816211714\n",
            "loss_test:  64.15062623071671\n",
            "question:  that doesn't matter. i don't want to sit around.\n",
            "gold answer:  okay, what kind of job do you want?\n",
            "generated text:  i think that . . .\n",
            " \n",
            "epoch:  90\n",
            "loss:  34.77885436916358\n",
            "loss_test:  64.66082393074039\n",
            "question:  especially on these slick floors.\n",
            "gold answer:  someone who slips could hurt their back.\n",
            "generated text:  i don't you . .\n",
            " \n",
            "epoch:  91\n",
            "loss:  34.89087265443798\n",
            "loss_test:  64.08505044174194\n",
            "question:  how long did it take?\n",
            "gold answer:  four hours, without a break.\n",
            "generated text:  i don't the the red . . . .\n",
            " \n",
            "epoch:  92\n",
            "loss:  34.731621778011316\n",
            "loss_test:  64.01756622409818\n",
            "question:  he promised to hire 1,000 more police officers.\n",
            "gold answer:  how many did he hire?\n",
            "generated text:  i think the good . . . . . . .\n",
            " \n",
            "epoch:  93\n",
            "loss:  34.170577771663645\n",
            "loss_test:  64.8921069736481\n",
            "question:  i loved it. i still remember how amazing it was.\n",
            "gold answer:  i'm sure i'll like it, too.\n",
            "generated text:  i hope you . .\n",
            " \n",
            "epoch:  94\n",
            "loss:  34.996664942264495\n",
            "loss_test:  64.74521950674048\n",
            "question:  i used to work in a deli.\n",
            "gold answer:  how did you like it?\n",
            "generated text:  i don't you .\n",
            " \n",
            "epoch:  95\n",
            "loss:  34.504248256683354\n",
            "loss_test:  64.60434383392341\n",
            "question:  more and more people are using macs.\n",
            "gold answer:  but 90 percent of the world uses pcs.\n",
            "generated text:  i don't know . . . . . .\n",
            " \n",
            "epoch:  96\n",
            "loss:  34.19156097745894\n",
            "loss_test:  64.44303090953827\n",
            "question:  i think my nose was bleeding.\n",
            "gold answer:  you should wet your shirt immediately.\n",
            "generated text:  i think you .\n",
            " \n",
            "epoch:  97\n",
            "loss:  34.68165630006797\n",
            "loss_test:  64.71856497526173\n",
            "question:  how long was the flight?\n",
            "gold answer:  it only took about two hours.\n",
            "generated text:  i don't know . .\n",
            " \n",
            "epoch:  98\n",
            "loss:  34.02447030496596\n",
            "loss_test:  64.8231561398507\n",
            "question:  yes. i told him our doorbell doesn't work.\n",
            "gold answer:  it shouldn't take him long to fix it.\n",
            "generated text:  i think you\n",
            " \n",
            "epoch:  99\n",
            "loss:  34.122164741992954\n",
            "loss_test:  65.33435596084597\n",
            "question:  it's a flying zoo!\n",
            "gold answer:  i wish i could afford first class seats.\n",
            "generated text:  i don't know . . .\n",
            " \n"
          ],
          "name": "stdout"
        },
        {
          "output_type": "display_data",
          "data": {
            "image/png": "[encoded data removed]",
            "text/plain": [
              "<Figure size 432x288 with 1 Axes>"
            ]
          },
          "metadata": {
            "tags": [],
            "needs_background": "light"
          }
        }
      ]
    },
    {
      "cell_type": "code",
      "metadata": {
        "id": "beOIVXVy3ap2"
      },
      "source": [
        "def call_test(data_num):\n",
        "  loss_test_i, word_index = test(data_num, 0, 0.2)\n",
        "  text = decode_ids(word_index)\n",
        "  print(\"loss_test: \",loss_test)\n",
        "  print(\"question: \", pre_questions1[data_num])\n",
        "  print(\"gold answer: \", pre_answers1[data_num])\n",
        "  print(\"generated answer: \", text)"
      ],
      "execution_count": null,
      "outputs": []
    },
    {
      "cell_type": "code",
      "metadata": {
        "id": "DqAcLufE3ypU",
        "outputId": "ab00515c-b31e-4a95-f4cb-4309c320d7f4",
        "colab": {
          "base_uri": "https://localhost:8080/",
          "height": 1000
        }
      },
      "source": [
        "for i in range(15):\n",
        "  ss = i\n",
        "  call_test(ss)\n",
        "  print(\"________\")"
      ],
      "execution_count": null,
      "outputs": [
        {
          "output_type": "stream",
          "text": [
            "loss_test:  65.33435596084597\n",
            "question:  hi, how are you doing?\n",
            "gold answer:  i'm fine. how about yourself?\n",
            "generated answer:  i don't know . . . . .\n",
            "________\n",
            "loss_test:  65.33435596084597\n",
            "question:  i'm fine. how about yourself?\n",
            "gold answer:  i'm pretty good. thanks for asking.\n",
            "generated answer:  i don't know . .\n",
            "________\n",
            "loss_test:  65.33435596084597\n",
            "question:  i'm pretty good. thanks for asking.\n",
            "gold answer:  no problem. so how have you been?\n",
            "generated answer:  i think you . . .\n",
            "________\n",
            "loss_test:  65.33435596084597\n",
            "question:  no problem. so how have you been?\n",
            "gold answer:  i've been great. what about you?\n",
            "generated answer:  i don't know . . .\n",
            "________\n",
            "loss_test:  65.33435596084597\n",
            "question:  i've been great. what about you?\n",
            "gold answer:  i've been good. i'm in school right now.\n",
            "generated answer:  i don't know . . .\n",
            "________\n",
            "loss_test:  65.33435596084597\n",
            "question:  i've been good. i'm in school right now.\n",
            "gold answer:  what school do you go to?\n",
            "generated answer:  i think that . .\n",
            "________\n",
            "loss_test:  65.33435596084597\n",
            "question:  what school do you go to?\n",
            "gold answer:  i go to pcc.\n",
            "generated answer:  i don't know . . .\n",
            "________\n",
            "loss_test:  65.33435596084597\n",
            "question:  i go to pcc.\n",
            "gold answer:  do you like it there?\n",
            "generated answer:  i don't you . . .\n",
            "________\n",
            "loss_test:  65.33435596084597\n",
            "question:  do you like it there?\n",
            "gold answer:  it's okay. it's a really big campus.\n",
            "generated answer:  i don't know . . . . . . . .\n",
            "________\n",
            "loss_test:  65.33435596084597\n",
            "question:  it's okay. it's a really big campus.\n",
            "gold answer:  good luck with school.\n",
            "generated answer:  i think that . . .\n",
            "________\n",
            "loss_test:  65.33435596084597\n",
            "question:  good luck with school.\n",
            "gold answer:  thank you very much.\n",
            "generated answer:  i don't know . . .\n",
            "________\n",
            "loss_test:  65.33435596084597\n",
            "question:  how's it going?\n",
            "gold answer:  i'm doing well. how about you?\n",
            "generated answer:  i don't know . . . .\n",
            "________\n",
            "loss_test:  65.33435596084597\n",
            "question:  i'm doing well. how about you?\n",
            "gold answer:  never better, thanks.\n",
            "generated answer:  i don't want to go .\n",
            "________\n",
            "loss_test:  65.33435596084597\n",
            "question:  never better, thanks.\n",
            "gold answer:  so how have you been lately?\n",
            "generated answer:  i don't know . . .\n",
            "________\n",
            "loss_test:  65.33435596084597\n",
            "question:  so how have you been lately?\n",
            "gold answer:  i've actually been pretty good. you?\n",
            "generated answer:  i don't know . . . . .\n",
            "________\n"
          ],
          "name": "stdout"
        }
      ]
    },
    {
      "cell_type": "code",
      "metadata": {
        "id": "MFTPIiwAqA_L"
      },
      "source": [
        "torch.save(encoder.state_dict(), \"/content/drive/My Drive/Chatbot/encoder_CoverageAttentionSeq2SeqDialogs.pth\")\n",
        "torch.save(decoder.state_dict(), \"/content/drive/My Drive/Chatbot/decoder_CoverageAttentionSeq2SeqDialogs.pth\")"
      ],
      "execution_count": null,
      "outputs": []
    },
    {
      "cell_type": "code",
      "metadata": {
        "id": "sUFLWFjBTFkD"
      },
      "source": [
        "#Encoder\n",
        "import torch\n",
        "import torch.nn as nn\n",
        "import torch.nn.functional as F\n",
        "hidden_size = 256\n",
        "embedding_size = 50\n",
        "drop_out = 0\n",
        "n_layer_en = 1\n",
        "\n",
        "class Encoder(nn.Module):\n",
        "  def __init__(self):\n",
        "    super(Encoder, self).__init__()\n",
        "\n",
        "    self.embedding_layer = nn.Embedding(vocab_size, embedding_size, padding_idx=pad_index)\n",
        "\n",
        "    self.bigru = nn.GRU(embedding_size, hidden_size, n_layer_en, bidirectional=True, batch_first=True, dropout=drop_out)\n",
        "    \n",
        "    self.linear_e = nn.Linear(2*hidden_size, 2*hidden_size, bias=False)\n",
        "    \n",
        "  def forward(self, question):\n",
        "    question_embedded = self.embedding_layer(question.unsqueeze(0))\n",
        "\n",
        "    encoder_out, hidden = self.bigru(question_embedded)\n",
        "    question_fwd = hidden[0:hidden.size(0):2]\n",
        "    question_bwd = hidden[1:hidden.size(0):2]\n",
        "    question_encoded = torch.cat([question_fwd, question_bwd], dim=2)\n",
        "\n",
        "    question_encoded = self.linear_e(question_encoded)\n",
        "    question_hidden = torch.stack([question_encoded[0, 0, :hidden_size], question_encoded[0, 0, hidden_size:]]).unsqueeze(1)\n",
        "\n",
        "    return encoder_out, question_hidden, question_encoded\n",
        "\n",
        "encoder = Encoder()\n",
        "encoder = encoder.to(device)\n",
        "\n",
        "n_layer_de = 2\n",
        "class Attention(nn.Module):\n",
        "  def __init__(self):\n",
        "    super(Attention, self).__init__()\n",
        "\n",
        "    self.linearV = nn.Linear(hidden_size, 1, bias=False)\n",
        "    self.linearS = nn.Linear(2*hidden_size, hidden_size)\n",
        "    self.linearH = nn.Linear(n_layer_de*hidden_size, hidden_size)\n",
        "    self.cover_layer = nn.Linear(input_size, hidden_size, bias=False)\n",
        "    \n",
        "  def forward(self, s, h, mask, cover):\n",
        "    S = self.linearS(s)\n",
        "    H = self.linearH(h)\n",
        "    C = self.cover_layer(cover)\n",
        "    v = torch.tanh(self.linearV(S + H + C)).squeeze(-1).unsqueeze(0)\n",
        "    \n",
        "    if mask is not None:\n",
        "      mask = mask.unsqueeze(0).unsqueeze(0)\n",
        "      v.data.masked_fill_(\n",
        "                mask == 0, -6.0\n",
        "            )\n",
        "    a = F.softmax(v, dim=-1)\n",
        "    context = torch.bmm(a, s)\n",
        "    next_cover = cover + a\n",
        "\n",
        "    return a, next_cover, context\n",
        "\n",
        "\n",
        "n_layer_de = 2\n",
        "eps = 1e-40\n",
        "class Decoder(nn.Module):\n",
        "  def __init__(self):\n",
        "    super(Decoder, self).__init__()\n",
        "\n",
        "    self.embedding_layer = nn.Embedding(vocab_size, embedding_size, padding_idx=pad_index)\n",
        "\n",
        "    self.gru = nn.GRU(embedding_size, hidden_size, n_layer_de, bidirectional=False, batch_first=True, dropout=drop_out)\n",
        "    self.attention = Attention()\n",
        "    self.linear_d = nn.Linear(3*hidden_size, hidden_size)\n",
        "    self.vocab_linear = nn.Linear(hidden_size, vocab_size)\n",
        "    \n",
        "  def forward(self, encoder_out, question_encoded, decoder_out, decoder_hidden, question, cover, step):\n",
        "\n",
        "    input_emb = self.embedding_layer(decoder_out)\n",
        "\n",
        "    gru_out, gru_hidden = self.gru(input_emb, decoder_hidden)\n",
        "\n",
        "    h = torch.cat([gru_hidden[0], gru_hidden[1]], dim=-1).unsqueeze(0)\n",
        "\n",
        "    a, next_cover, context = attention(encoder_out, h, question, cover)\n",
        "    context_out = torch.cat([gru_out, context], dim=-1)\n",
        "\n",
        "    decoder_out = F.relu(self.linear_d(context_out))\n",
        "    decoder_out = F.log_softmax(self.vocab_linear(decoder_out)+eps, dim=-1)    \n",
        "    return gru_hidden, decoder_out, a, next_cover\n",
        "\n",
        "decoder = Decoder()\n",
        "decoder = decoder.to(device)"
      ],
      "execution_count": null,
      "outputs": []
    },
    {
      "cell_type": "code",
      "metadata": {
        "id": "jI2e5J0WaEns",
        "outputId": "702bc91e-5881-48c7-ed61-bdbf5089e546",
        "colab": {
          "base_uri": "https://localhost:8080/",
          "height": 765
        }
      },
      "source": [
        "dir(torch.load(encoder_path))"
      ],
      "execution_count": null,
      "outputs": [
        {
          "output_type": "execute_result",
          "data": {
            "text/plain": [
              "['__class__',\n",
              " '__contains__',\n",
              " '__delattr__',\n",
              " '__delitem__',\n",
              " '__dict__',\n",
              " '__dir__',\n",
              " '__doc__',\n",
              " '__eq__',\n",
              " '__format__',\n",
              " '__ge__',\n",
              " '__getattribute__',\n",
              " '__getitem__',\n",
              " '__gt__',\n",
              " '__hash__',\n",
              " '__init__',\n",
              " '__init_subclass__',\n",
              " '__iter__',\n",
              " '__le__',\n",
              " '__len__',\n",
              " '__lt__',\n",
              " '__ne__',\n",
              " '__new__',\n",
              " '__reduce__',\n",
              " '__reduce_ex__',\n",
              " '__repr__',\n",
              " '__reversed__',\n",
              " '__setattr__',\n",
              " '__setitem__',\n",
              " '__sizeof__',\n",
              " '__str__',\n",
              " '__subclasshook__',\n",
              " '_metadata',\n",
              " 'clear',\n",
              " 'copy',\n",
              " 'fromkeys',\n",
              " 'get',\n",
              " 'items',\n",
              " 'keys',\n",
              " 'move_to_end',\n",
              " 'pop',\n",
              " 'popitem',\n",
              " 'setdefault',\n",
              " 'update',\n",
              " 'values']"
            ]
          },
          "metadata": {
            "tags": []
          },
          "execution_count": 79
        }
      ]
    },
    {
      "cell_type": "code",
      "metadata": {
        "id": "Tmq2l7t3TFpG",
        "outputId": "2586ba94-7acc-44d5-e639-df0dc608e682",
        "colab": {
          "base_uri": "https://localhost:8080/",
          "height": 34
        }
      },
      "source": [
        "encoder = Encoder()\n",
        "decoder = Decoder()\n",
        "encoder_path = \"/content/drive/My Drive/Chatbot/eval2/encoder_CoverageAttentionSeq2SeqDialogs.pth\"\n",
        "decoder_path = \"/content/drive/My Drive/Chatbot/eval2/decoder_CoverageAttentionSeq2SeqDialogs.pth\"\n",
        "encoder.load_state_dict(torch.load(encoder_path))\n",
        "decoder.load_state_dict(torch.load(decoder_path))"
      ],
      "execution_count": null,
      "outputs": [
        {
          "output_type": "execute_result",
          "data": {
            "text/plain": [
              "<All keys matched successfully>"
            ]
          },
          "metadata": {
            "tags": []
          },
          "execution_count": 86
        }
      ]
    },
    {
      "cell_type": "code",
      "metadata": {
        "id": "Nth1naizTFuE",
        "outputId": "f8b54edc-682a-4d00-9c5a-1de5ff68de12",
        "colab": {
          "base_uri": "https://localhost:8080/",
          "height": 85
        }
      },
      "source": [
        "encoder = encoder.to(device)\n",
        "decoder = decoder.to(device)\n",
        "call_test(2777)"
      ],
      "execution_count": null,
      "outputs": [
        {
          "output_type": "stream",
          "text": [
            "loss_test:  65.33435596084597\n",
            "question:  but someone's going to break it, so what good is it?\n",
            "gold answer:  well, he can enjoy it while it lasts.\n",
            "generated answer:  i don't know . . . . . . .\n"
          ],
          "name": "stdout"
        }
      ]
    },
    {
      "cell_type": "code",
      "metadata": {
        "id": "GCnVmtb1TFrj"
      },
      "source": [
        "def test_eval(data_num, teacher_forcing_p, alpha):\n",
        "  encoder.eval()\n",
        "  decoder.eval()\n",
        "\n",
        "  question, answer = set_input_data(data_num)\n",
        "\n",
        "  rand = np.random.rand()\n",
        "  if teacher_forcing_p > rand:\n",
        "      teacher_forcing = True\n",
        "  else:\n",
        "      teacher_forcing = False\n",
        "\n",
        "  length = answer_max + 2\n",
        "\n",
        "  #encoder\n",
        "  encoder_out, question_hidden, question_encoded = encoder(question)\n",
        "\n",
        "  decoder_out = torch.LongTensor([sos_index]).to(device).unsqueeze(0)\n",
        "  decoder_hidden = question_hidden\n",
        "  next_cover = torch.zeros(1, 1, input_size).to(device).requires_grad_()\n",
        "  cover_index = []\n",
        "  a_index = []\n",
        "\n",
        "  log_logit_index = []\n",
        "  word_index = []\n",
        "  for step in range(length):\n",
        "    #decoder\n",
        "    cover = next_cover\n",
        "    decoder_hidden, decoder_out, a, next_cover = decoder(encoder_out, question_encoded, decoder_out, decoder_hidden, question, next_cover, step)\n",
        "    log_logit_index.append(decoder_out.squeeze(0))\n",
        "    if teacher_forcing:\n",
        "      decoder_out = answer[step].unsqueeze(0).unsqueeze(0)\n",
        "    else:\n",
        "      decoder_out = decoder_out.argmax(-1)\n",
        "    word_index.append(decoder_out)\n",
        "\n",
        "    cover_index.append(cover)\n",
        "    a_index.append(a)\n",
        "\n",
        "  word_index = torch.cat(word_index, dim=-1).squeeze(0)\n",
        "\n",
        "  cover_index = torch.cat(cover_index, dim=0)\n",
        "  a_index = torch.cat(a_index, dim=0)\n",
        "  cov_loss = torch.sum(torch.min(cover_index, a_index))\n",
        "  log_logit_index = torch.cat(log_logit_index, dim=0)\n",
        "  loss = criterion(log_logit_index, answer) + alpha*cov_loss\n",
        "\n",
        "  return loss.item(), word_index, a_index, question"
      ],
      "execution_count": null,
      "outputs": []
    },
    {
      "cell_type": "code",
      "metadata": {
        "id": "KLm_EyAnctvD"
      },
      "source": [
        "def decode_ids_test(ids):\n",
        "  ids = ids.to(device2).detach().clone().numpy()\n",
        "  new_ids = []\n",
        "  answer = []\n",
        "  for i in range(len(ids)):\n",
        "    id = ids[i]\n",
        "    new_ids.append(id)\n",
        "    \n",
        "  for i in range(len(new_ids)):\n",
        "    answer.append(transform_vocab.i2w[new_ids[i]])\n",
        " \n",
        "  \n",
        "  return answer"
      ],
      "execution_count": null,
      "outputs": []
    },
    {
      "cell_type": "code",
      "metadata": {
        "id": "_VCBOjOETGzW"
      },
      "source": [
        "def visualize_attention(data_num):\n",
        "  loss,word_index,a_index, question = test_eval(data_num, 0, 0)\n",
        "  a_index2 = a_index.squeeze(1).to(device2).detach().clone().numpy()\n",
        "  a_index2 = np.transpose(a_index2)\n",
        "  index = decode_ids_test(question)\n",
        "  column = decode_ids_test(word_index)\n",
        "  df = pd.DataFrame(data=a_index2, index=index, columns=column)\n",
        "\n",
        "  sns.heatmap(df,linewidths=.5,square=True,cmap='Blues',xticklabels=1,yticklabels=1)\n",
        "  call_test(data_num)"
      ],
      "execution_count": null,
      "outputs": []
    },
    {
      "cell_type": "code",
      "metadata": {
        "id": "myHSdg4_TFmu",
        "outputId": "501c5226-9859-43e7-fcd3-4c52f18e1df5",
        "colab": {
          "base_uri": "https://localhost:8080/",
          "height": 350
        }
      },
      "source": [
        "visualize_attention(2777)"
      ],
      "execution_count": null,
      "outputs": [
        {
          "output_type": "stream",
          "text": [
            "loss_test:  65.33435596084597\n",
            "question:  but someone's going to break it, so what good is it?\n",
            "gold answer:  well, he can enjoy it while it lasts.\n",
            "generated answer:  i don't know . . . . . . .\n"
          ],
          "name": "stdout"
        },
        {
          "output_type": "display_data",
          "data": {
            "image/png": "[encoded data removed]",
            "text/plain": [
              "<Figure size 432x288 with 2 Axes>"
            ]
          },
          "metadata": {
            "tags": [],
            "needs_background": "light"
          }
        }
      ]
    },
    {
      "cell_type": "code",
      "metadata": {
        "id": "knnACOw-TFYu",
        "outputId": "e5306448-e93b-475f-e53e-3a6ed462a1b6",
        "colab": {
          "base_uri": "https://localhost:8080/",
          "height": 355
        }
      },
      "source": [
        "visualize_attention(1000)"
      ],
      "execution_count": null,
      "outputs": [
        {
          "output_type": "stream",
          "text": [
            "loss_test:  65.33435596084597\n",
            "question:  no problem. i'll give him food off my plate.\n",
            "gold answer:  oh, no you don't. puppies don't eat vegetables.\n",
            "generated answer:  what do you mean ? ? . . . .\n"
          ],
          "name": "stdout"
        },
        {
          "output_type": "display_data",
          "data": {
            "image/png": "[encoded data removed]",
            "text/plain": [
              "<Figure size 432x288 with 2 Axes>"
            ]
          },
          "metadata": {
            "tags": [],
            "needs_background": "light"
          }
        }
      ]
    },
    {
      "cell_type": "code",
      "metadata": {
        "id": "2YgQgEDNTFTS",
        "outputId": "4ecf2b91-dac3-4494-f841-fe909ca1d9d4",
        "colab": {
          "base_uri": "https://localhost:8080/",
          "height": 349
        }
      },
      "source": [
        "visualize_attention(12)"
      ],
      "execution_count": null,
      "outputs": [
        {
          "output_type": "stream",
          "text": [
            "loss_test:  65.33435596084597\n",
            "question:  i'm doing well. how about you?\n",
            "gold answer:  never better, thanks.\n",
            "generated answer:  i don't want to go .\n"
          ],
          "name": "stdout"
        },
        {
          "output_type": "display_data",
          "data": {
            "image/png": "[encoded data removed]",
            "text/plain": [
              "<Figure size 432x288 with 2 Axes>"
            ]
          },
          "metadata": {
            "tags": [],
            "needs_background": "light"
          }
        }
      ]
    },
    {
      "cell_type": "code",
      "metadata": {
        "id": "NAomO6WFk9Rb",
        "outputId": "01fac1c0-6234-4947-d640-d6cc0fcb8cea",
        "colab": {
          "base_uri": "https://localhost:8080/",
          "height": 348
        }
      },
      "source": [
        "visualize_attention(3500)"
      ],
      "execution_count": null,
      "outputs": [
        {
          "output_type": "stream",
          "text": [
            "loss_test:  65.33435596084597\n",
            "question:  i like the one where the fireman tells us why we should vote yes.\n",
            "gold answer:  don't believe him! whatever the tv ads tell you, the opposite is true.\n",
            "generated answer:  i hope it . .\n"
          ],
          "name": "stdout"
        },
        {
          "output_type": "display_data",
          "data": {
            "image/png": "[encoded data removed]",
            "text/plain": [
              "<Figure size 432x288 with 2 Axes>"
            ]
          },
          "metadata": {
            "tags": [],
            "needs_background": "light"
          }
        }
      ]
    },
    {
      "cell_type": "code",
      "metadata": {
        "id": "o_cW7DUSlLsg",
        "outputId": "e843cfe2-65ca-46d3-d3a8-39fe8f62b59b",
        "colab": {
          "base_uri": "https://localhost:8080/",
          "height": 349
        }
      },
      "source": [
        "visualize_attention(3333)"
      ],
      "execution_count": null,
      "outputs": [
        {
          "output_type": "stream",
          "text": [
            "loss_test:  65.33435596084597\n",
            "question:  i'll check to make sure that all the windows are shut.\n",
            "gold answer:  it should be warmer in a few minutes.\n",
            "generated answer:  i think that .\n"
          ],
          "name": "stdout"
        },
        {
          "output_type": "display_data",
          "data": {
            "image/png": "[encoded data removed]",
            "text/plain": [
              "<Figure size 432x288 with 2 Axes>"
            ]
          },
          "metadata": {
            "tags": [],
            "needs_background": "light"
          }
        }
      ]
    },
    {
      "cell_type": "code",
      "metadata": {
        "id": "tmMDA36sVpC7"
      },
      "source": [
        ""
      ],
      "execution_count": null,
      "outputs": []
    }
  ]
}